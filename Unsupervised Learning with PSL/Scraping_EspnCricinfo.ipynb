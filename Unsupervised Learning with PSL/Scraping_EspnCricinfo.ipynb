{
 "cells": [
  {
   "cell_type": "code",
   "execution_count": 4,
   "metadata": {},
   "outputs": [],
   "source": [
    "# Using requests for approaching the webpage\n",
    "\n",
    "from requests import get\n",
    "from bs4 import BeautifulSoup"
   ]
  },
  {
   "cell_type": "code",
   "execution_count": 5,
   "metadata": {},
   "outputs": [],
   "source": [
    "Data=[]\n",
    "Column_names=[]\n",
    "\n",
    "def extract_text(url): ## Function to extract the Data   \n",
    "    \n",
    "    response_ar=get(url)                                                    #getting the data\n",
    "    html_soup_ar=BeautifulSoup(response_ar.text,'html.parser')              #html parser\n",
    "        \n",
    "    head=html_soup_ar.find_all('tr',class_='head')                         # Extract the Column Names\n",
    "    Column_Names_Extract=head[0].find_all('th',nowrap='nowrap')             \n",
    "        \n",
    "    for i in range(len(Column_Names_Extract)):\n",
    "        Column_names.append(Column_Names_Extract[i].text)\n",
    "            \n",
    "    list_dict = {c:[] for c in Column_names}\n",
    "                \n",
    "    data_ar=html_soup_ar.find_all('tr',class_='data2')       # Collecting the whole table \n",
    "    \n",
    "    for i in range(len(data_ar)):\n",
    "        data_1_ar=[]\n",
    "        x_ar=data_ar[i].find_all('td',nowrap='nowrap')\n",
    "        data_1_ar.append(x_ar)                                                #The actual numbers \n",
    "    \n",
    "        for p in data_1_ar:\n",
    "            for r in p:         # assigning numbers to columns in a list_dict\n",
    "                Data.append(r.text)"
   ]
  },
  {
   "cell_type": "code",
   "execution_count": 6,
   "metadata": {},
   "outputs": [],
   "source": [
    "extract_text('https://stats.espncricinfo.com/ci/engine/records/individual/most_matches_as_captain.html?id=205;type=trophy')"
   ]
  },
  {
   "cell_type": "code",
   "execution_count": 9,
   "metadata": {},
   "outputs": [],
   "source": [
    "Data_lists=[Data[x:x+8] for x in range(0,len(Data),8)]"
   ]
  },
  {
   "cell_type": "code",
   "execution_count": 10,
   "metadata": {},
   "outputs": [
    {
     "data": {
      "text/plain": [
       "[['Sarfaraz Ahmed', '2016-2020', '52', '30', '21', '0', '1', '58.82'],\n",
       " ['DJG Sammy', '2017-2020', '39', '22', '16', '0', '1', '57.89'],\n",
       " ['Imad Wasim', '2018-2020', '28', '14', '11', '1', '2', '55.76'],\n",
       " ['Shoaib Malik', '2016-2019', '28', '9', '18', '0', '1', '33.33'],\n",
       " ['Misbah-ul-Haq', '2016-2018', '26', '15', '10', '1', '0', '59.61'],\n",
       " ['BB McCullum', '2017-2018', '18', '5', '11', '2', '0', '33.33'],\n",
       " ['Shadab Khan', '2019-2020', '12', '5', '7', '0', '0', '41.66'],\n",
       " ['KC Sangakkara', '2017-2017', '10', '5', '5', '0', '0', '50.00'],\n",
       " ['Shahid Afridi', '2016-2016', '10', '6', '4', '0', '0', '60.00'],\n",
       " ['Sohail Akhtar', '2020-2020', '10', '5', '5', '0', '0', '50.00'],\n",
       " ['Mohammad Sami', '2019-2019', '9', '4', '5', '0', '0', '44.44'],\n",
       " ['Shan Masood', '2020-2020', '9', '6', '2', '0', '1', '75.00'],\n",
       " ['Azhar Ali', '2016-2016', '7', '2', '5', '0', '0', '28.57'],\n",
       " ['Fakhar Zaman', '2019-2019', '5', '1', '4', '0', '0', '20.00'],\n",
       " ['Wahab Riaz', '2020-2020', '5', '2', '3', '0', '0', '40.00'],\n",
       " ['Mohammad Hafeez', '2018-2019', '4', '2', '2', '0', '0', '50.00'],\n",
       " ['AB de Villiers', '2019-2019', '3', '1', '2', '0', '0', '33.33'],\n",
       " ['EJG Morgan', '2018-2018', '3', '1', '2', '0', '0', '33.33'],\n",
       " ['JP Duminy', '2018-2018', '2', '2', '0', '0', '0', '100.00'],\n",
       " ['Rumman Raees', '2018-2018', '2', '1', '1', '0', '0', '50.00'],\n",
       " ['SR Watson', '2016-2016', '2', '1', '1', '0', '0', '50.00'],\n",
       " ['Babar Azam', '2020-2020', '1', '0', '1', '0', '0', '0.00'],\n",
       " ['RS Bopara', '2016-2016', '1', '0', '1', '0', '0', '0.00'],\n",
       " ['DJ Bravo', '2016-2016', '1', '0', '1', '0', '0', '0.00'],\n",
       " ['Mohammad Amir', '2018-2018', '1', '0', '1', '0', '0', '0.00']]"
      ]
     },
     "execution_count": 10,
     "metadata": {},
     "output_type": "execute_result"
    }
   ],
   "source": [
    "Data_lists"
   ]
  },
  {
   "cell_type": "code",
   "execution_count": 11,
   "metadata": {},
   "outputs": [],
   "source": [
    "PSL_captains=Data_lists"
   ]
  },
  {
   "cell_type": "code",
   "execution_count": 12,
   "metadata": {},
   "outputs": [],
   "source": [
    "import pandas as pd\n",
    "PSL_Captains_Data= pd.DataFrame(data=PSL_captains,columns=Column_names)"
   ]
  },
  {
   "cell_type": "code",
   "execution_count": 13,
   "metadata": {},
   "outputs": [],
   "source": [
    "PSL_Captains_Data.to_csv('PSL_Captains_Int.csv')"
   ]
  },
  {
   "cell_type": "code",
   "execution_count": null,
   "metadata": {},
   "outputs": [],
   "source": []
  }
 ],
 "metadata": {
  "kernelspec": {
   "display_name": "Python 3",
   "language": "python",
   "name": "python3"
  },
  "language_info": {
   "codemirror_mode": {
    "name": "ipython",
    "version": 3
   },
   "file_extension": ".py",
   "mimetype": "text/x-python",
   "name": "python",
   "nbconvert_exporter": "python",
   "pygments_lexer": "ipython3",
   "version": "3.7.3"
  }
 },
 "nbformat": 4,
 "nbformat_minor": 2
}
